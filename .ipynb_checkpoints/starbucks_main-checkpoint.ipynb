{
 "cells": [
  {
   "cell_type": "code",
   "execution_count": 1,
   "metadata": {},
   "outputs": [],
   "source": [
    "# read necessary libraries\n",
    "import time\n",
    "import math\n",
    "import json\n",
    "import numpy as np\n",
    "import pandas as pd\n",
    "from datetime import datetime\n",
    "import matplotlib.pyplot as plt\n",
    "\n",
    "from sklearn.svm import SVC\n",
    "from sklearn.svm import LinearSVC\n",
    "from sklearn.naive_bayes import GaussianNB\n",
    "from sklearn.tree import DecisionTreeClassifier\n",
    "from sklearn.ensemble import AdaBoostClassifier\n",
    "from sklearn.model_selection import GridSearchCV\n",
    "from sklearn.model_selection import train_test_split\n",
    "from sklearn.metrics import accuracy_score, classification_report\n",
    "\n",
    "%matplotlib inline"
   ]
  },
  {
   "cell_type": "markdown",
   "metadata": {},
   "source": [
    "# Data Sets\n",
    "\n",
    "The data is contained in three files:\n",
    "\n",
    "* portfolio.json - containing offer ids and meta data about each offer (duration, type, etc.)\n",
    "* profile.json - demographic data for each customer\n",
    "* transcript.json - records for transactions, offers received, offers viewed, and offers completed\n",
    "\n",
    "Here is the schema and explanation of each variable in the files:\n",
    "\n",
    "**portfolio.json**\n",
    "* id (string) - offer id\n",
    "* offer_type (string) - type of offer ie BOGO, discount, informational\n",
    "* difficulty (int) - minimum required spend to complete an offer\n",
    "* reward (int) - reward given for completing an offer\n",
    "* duration (int) - time for offer to be open, in days\n",
    "* channels (list of strings)\n",
    "\n",
    "**profile.json**\n",
    "* age (int) - age of the customer \n",
    "* became_member_on (int) - date when customer created an app account\n",
    "* gender (str) - gender of the customer (note some entries contain 'O' for other rather than M or F)\n",
    "* id (str) - customer id\n",
    "* income (float) - customer's income\n",
    "\n",
    "**transcript.json**\n",
    "* event (str) - record description (ie transaction, offer received, offer viewed, etc.)\n",
    "* person (str) - customer id\n",
    "* time (int) - time in hours since start of test. The data begins at time t=0\n",
    "* value - (dict of strings) - either an offer id or transaction amount depending on the record\n"
   ]
  },
  {
   "cell_type": "code",
   "execution_count": 2,
   "metadata": {},
   "outputs": [],
   "source": [
    "# load datasets\n",
    "offers = pd.read_json('data/portfolio.json', orient='records', lines=True)\n",
    "user = pd.read_json('data/profile.json', orient='records', lines=True)\n",
    "transcript = pd.read_json('data/transcript.json', orient='records', lines=True)"
   ]
  },
  {
   "cell_type": "code",
   "execution_count": 3,
   "metadata": {},
   "outputs": [
    {
     "name": "stdout",
     "output_type": "stream",
     "text": [
      "(10, 6)\n"
     ]
    },
    {
     "data": {
      "text/html": [
       "<div>\n",
       "<style scoped>\n",
       "    .dataframe tbody tr th:only-of-type {\n",
       "        vertical-align: middle;\n",
       "    }\n",
       "\n",
       "    .dataframe tbody tr th {\n",
       "        vertical-align: top;\n",
       "    }\n",
       "\n",
       "    .dataframe thead th {\n",
       "        text-align: right;\n",
       "    }\n",
       "</style>\n",
       "<table border=\"1\" class=\"dataframe\">\n",
       "  <thead>\n",
       "    <tr style=\"text-align: right;\">\n",
       "      <th></th>\n",
       "      <th>reward</th>\n",
       "      <th>channels</th>\n",
       "      <th>difficulty</th>\n",
       "      <th>duration</th>\n",
       "      <th>offer_type</th>\n",
       "      <th>id</th>\n",
       "    </tr>\n",
       "  </thead>\n",
       "  <tbody>\n",
       "    <tr>\n",
       "      <th>0</th>\n",
       "      <td>10</td>\n",
       "      <td>[email, mobile, social]</td>\n",
       "      <td>10</td>\n",
       "      <td>7</td>\n",
       "      <td>bogo</td>\n",
       "      <td>ae264e3637204a6fb9bb56bc8210ddfd</td>\n",
       "    </tr>\n",
       "    <tr>\n",
       "      <th>1</th>\n",
       "      <td>10</td>\n",
       "      <td>[web, email, mobile, social]</td>\n",
       "      <td>10</td>\n",
       "      <td>5</td>\n",
       "      <td>bogo</td>\n",
       "      <td>4d5c57ea9a6940dd891ad53e9dbe8da0</td>\n",
       "    </tr>\n",
       "    <tr>\n",
       "      <th>2</th>\n",
       "      <td>0</td>\n",
       "      <td>[web, email, mobile]</td>\n",
       "      <td>0</td>\n",
       "      <td>4</td>\n",
       "      <td>informational</td>\n",
       "      <td>3f207df678b143eea3cee63160fa8bed</td>\n",
       "    </tr>\n",
       "    <tr>\n",
       "      <th>3</th>\n",
       "      <td>5</td>\n",
       "      <td>[web, email, mobile]</td>\n",
       "      <td>5</td>\n",
       "      <td>7</td>\n",
       "      <td>bogo</td>\n",
       "      <td>9b98b8c7a33c4b65b9aebfe6a799e6d9</td>\n",
       "    </tr>\n",
       "    <tr>\n",
       "      <th>4</th>\n",
       "      <td>5</td>\n",
       "      <td>[web, email]</td>\n",
       "      <td>20</td>\n",
       "      <td>10</td>\n",
       "      <td>discount</td>\n",
       "      <td>0b1e1539f2cc45b7b9fa7c272da2e1d7</td>\n",
       "    </tr>\n",
       "    <tr>\n",
       "      <th>5</th>\n",
       "      <td>3</td>\n",
       "      <td>[web, email, mobile, social]</td>\n",
       "      <td>7</td>\n",
       "      <td>7</td>\n",
       "      <td>discount</td>\n",
       "      <td>2298d6c36e964ae4a3e7e9706d1fb8c2</td>\n",
       "    </tr>\n",
       "    <tr>\n",
       "      <th>6</th>\n",
       "      <td>2</td>\n",
       "      <td>[web, email, mobile, social]</td>\n",
       "      <td>10</td>\n",
       "      <td>10</td>\n",
       "      <td>discount</td>\n",
       "      <td>fafdcd668e3743c1bb461111dcafc2a4</td>\n",
       "    </tr>\n",
       "    <tr>\n",
       "      <th>7</th>\n",
       "      <td>0</td>\n",
       "      <td>[email, mobile, social]</td>\n",
       "      <td>0</td>\n",
       "      <td>3</td>\n",
       "      <td>informational</td>\n",
       "      <td>5a8bc65990b245e5a138643cd4eb9837</td>\n",
       "    </tr>\n",
       "    <tr>\n",
       "      <th>8</th>\n",
       "      <td>5</td>\n",
       "      <td>[web, email, mobile, social]</td>\n",
       "      <td>5</td>\n",
       "      <td>5</td>\n",
       "      <td>bogo</td>\n",
       "      <td>f19421c1d4aa40978ebb69ca19b0e20d</td>\n",
       "    </tr>\n",
       "    <tr>\n",
       "      <th>9</th>\n",
       "      <td>2</td>\n",
       "      <td>[web, email, mobile]</td>\n",
       "      <td>10</td>\n",
       "      <td>7</td>\n",
       "      <td>discount</td>\n",
       "      <td>2906b810c7d4411798c6938adc9daaa5</td>\n",
       "    </tr>\n",
       "  </tbody>\n",
       "</table>\n",
       "</div>"
      ],
      "text/plain": [
       "   reward                      channels  difficulty  duration     offer_type  \\\n",
       "0      10       [email, mobile, social]          10         7           bogo   \n",
       "1      10  [web, email, mobile, social]          10         5           bogo   \n",
       "2       0          [web, email, mobile]           0         4  informational   \n",
       "3       5          [web, email, mobile]           5         7           bogo   \n",
       "4       5                  [web, email]          20        10       discount   \n",
       "5       3  [web, email, mobile, social]           7         7       discount   \n",
       "6       2  [web, email, mobile, social]          10        10       discount   \n",
       "7       0       [email, mobile, social]           0         3  informational   \n",
       "8       5  [web, email, mobile, social]           5         5           bogo   \n",
       "9       2          [web, email, mobile]          10         7       discount   \n",
       "\n",
       "                                 id  \n",
       "0  ae264e3637204a6fb9bb56bc8210ddfd  \n",
       "1  4d5c57ea9a6940dd891ad53e9dbe8da0  \n",
       "2  3f207df678b143eea3cee63160fa8bed  \n",
       "3  9b98b8c7a33c4b65b9aebfe6a799e6d9  \n",
       "4  0b1e1539f2cc45b7b9fa7c272da2e1d7  \n",
       "5  2298d6c36e964ae4a3e7e9706d1fb8c2  \n",
       "6  fafdcd668e3743c1bb461111dcafc2a4  \n",
       "7  5a8bc65990b245e5a138643cd4eb9837  \n",
       "8  f19421c1d4aa40978ebb69ca19b0e20d  \n",
       "9  2906b810c7d4411798c6938adc9daaa5  "
      ]
     },
     "execution_count": 3,
     "metadata": {},
     "output_type": "execute_result"
    }
   ],
   "source": [
    "# take a look at offers df\n",
    "print(offers.shape)\n",
    "offers"
   ]
  },
  {
   "cell_type": "code",
   "execution_count": 4,
   "metadata": {},
   "outputs": [
    {
     "name": "stdout",
     "output_type": "stream",
     "text": [
      "(17000, 5)\n"
     ]
    },
    {
     "data": {
      "text/html": [
       "<div>\n",
       "<style scoped>\n",
       "    .dataframe tbody tr th:only-of-type {\n",
       "        vertical-align: middle;\n",
       "    }\n",
       "\n",
       "    .dataframe tbody tr th {\n",
       "        vertical-align: top;\n",
       "    }\n",
       "\n",
       "    .dataframe thead th {\n",
       "        text-align: right;\n",
       "    }\n",
       "</style>\n",
       "<table border=\"1\" class=\"dataframe\">\n",
       "  <thead>\n",
       "    <tr style=\"text-align: right;\">\n",
       "      <th></th>\n",
       "      <th>gender</th>\n",
       "      <th>age</th>\n",
       "      <th>id</th>\n",
       "      <th>became_member_on</th>\n",
       "      <th>income</th>\n",
       "    </tr>\n",
       "  </thead>\n",
       "  <tbody>\n",
       "    <tr>\n",
       "      <th>0</th>\n",
       "      <td>None</td>\n",
       "      <td>118</td>\n",
       "      <td>68be06ca386d4c31939f3a4f0e3dd783</td>\n",
       "      <td>20170212</td>\n",
       "      <td>NaN</td>\n",
       "    </tr>\n",
       "    <tr>\n",
       "      <th>1</th>\n",
       "      <td>F</td>\n",
       "      <td>55</td>\n",
       "      <td>0610b486422d4921ae7d2bf64640c50b</td>\n",
       "      <td>20170715</td>\n",
       "      <td>112000.0</td>\n",
       "    </tr>\n",
       "    <tr>\n",
       "      <th>2</th>\n",
       "      <td>None</td>\n",
       "      <td>118</td>\n",
       "      <td>38fe809add3b4fcf9315a9694bb96ff5</td>\n",
       "      <td>20180712</td>\n",
       "      <td>NaN</td>\n",
       "    </tr>\n",
       "    <tr>\n",
       "      <th>3</th>\n",
       "      <td>F</td>\n",
       "      <td>75</td>\n",
       "      <td>78afa995795e4d85b5d9ceeca43f5fef</td>\n",
       "      <td>20170509</td>\n",
       "      <td>100000.0</td>\n",
       "    </tr>\n",
       "    <tr>\n",
       "      <th>4</th>\n",
       "      <td>None</td>\n",
       "      <td>118</td>\n",
       "      <td>a03223e636434f42ac4c3df47e8bac43</td>\n",
       "      <td>20170804</td>\n",
       "      <td>NaN</td>\n",
       "    </tr>\n",
       "  </tbody>\n",
       "</table>\n",
       "</div>"
      ],
      "text/plain": [
       "  gender  age                                id  became_member_on    income\n",
       "0   None  118  68be06ca386d4c31939f3a4f0e3dd783          20170212       NaN\n",
       "1      F   55  0610b486422d4921ae7d2bf64640c50b          20170715  112000.0\n",
       "2   None  118  38fe809add3b4fcf9315a9694bb96ff5          20180712       NaN\n",
       "3      F   75  78afa995795e4d85b5d9ceeca43f5fef          20170509  100000.0\n",
       "4   None  118  a03223e636434f42ac4c3df47e8bac43          20170804       NaN"
      ]
     },
     "execution_count": 4,
     "metadata": {},
     "output_type": "execute_result"
    }
   ],
   "source": [
    "# take a look at user df\n",
    "print(user.shape)\n",
    "user.head()"
   ]
  },
  {
   "cell_type": "code",
   "execution_count": 5,
   "metadata": {},
   "outputs": [
    {
     "name": "stdout",
     "output_type": "stream",
     "text": [
      "(306534, 4)\n"
     ]
    },
    {
     "data": {
      "text/html": [
       "<div>\n",
       "<style scoped>\n",
       "    .dataframe tbody tr th:only-of-type {\n",
       "        vertical-align: middle;\n",
       "    }\n",
       "\n",
       "    .dataframe tbody tr th {\n",
       "        vertical-align: top;\n",
       "    }\n",
       "\n",
       "    .dataframe thead th {\n",
       "        text-align: right;\n",
       "    }\n",
       "</style>\n",
       "<table border=\"1\" class=\"dataframe\">\n",
       "  <thead>\n",
       "    <tr style=\"text-align: right;\">\n",
       "      <th></th>\n",
       "      <th>person</th>\n",
       "      <th>event</th>\n",
       "      <th>value</th>\n",
       "      <th>time</th>\n",
       "    </tr>\n",
       "  </thead>\n",
       "  <tbody>\n",
       "    <tr>\n",
       "      <th>0</th>\n",
       "      <td>78afa995795e4d85b5d9ceeca43f5fef</td>\n",
       "      <td>offer received</td>\n",
       "      <td>{'offer id': '9b98b8c7a33c4b65b9aebfe6a799e6d9'}</td>\n",
       "      <td>0</td>\n",
       "    </tr>\n",
       "    <tr>\n",
       "      <th>1</th>\n",
       "      <td>a03223e636434f42ac4c3df47e8bac43</td>\n",
       "      <td>offer received</td>\n",
       "      <td>{'offer id': '0b1e1539f2cc45b7b9fa7c272da2e1d7'}</td>\n",
       "      <td>0</td>\n",
       "    </tr>\n",
       "    <tr>\n",
       "      <th>2</th>\n",
       "      <td>e2127556f4f64592b11af22de27a7932</td>\n",
       "      <td>offer received</td>\n",
       "      <td>{'offer id': '2906b810c7d4411798c6938adc9daaa5'}</td>\n",
       "      <td>0</td>\n",
       "    </tr>\n",
       "    <tr>\n",
       "      <th>3</th>\n",
       "      <td>8ec6ce2a7e7949b1bf142def7d0e0586</td>\n",
       "      <td>offer received</td>\n",
       "      <td>{'offer id': 'fafdcd668e3743c1bb461111dcafc2a4'}</td>\n",
       "      <td>0</td>\n",
       "    </tr>\n",
       "    <tr>\n",
       "      <th>4</th>\n",
       "      <td>68617ca6246f4fbc85e91a2a49552598</td>\n",
       "      <td>offer received</td>\n",
       "      <td>{'offer id': '4d5c57ea9a6940dd891ad53e9dbe8da0'}</td>\n",
       "      <td>0</td>\n",
       "    </tr>\n",
       "  </tbody>\n",
       "</table>\n",
       "</div>"
      ],
      "text/plain": [
       "                             person           event  \\\n",
       "0  78afa995795e4d85b5d9ceeca43f5fef  offer received   \n",
       "1  a03223e636434f42ac4c3df47e8bac43  offer received   \n",
       "2  e2127556f4f64592b11af22de27a7932  offer received   \n",
       "3  8ec6ce2a7e7949b1bf142def7d0e0586  offer received   \n",
       "4  68617ca6246f4fbc85e91a2a49552598  offer received   \n",
       "\n",
       "                                              value  time  \n",
       "0  {'offer id': '9b98b8c7a33c4b65b9aebfe6a799e6d9'}     0  \n",
       "1  {'offer id': '0b1e1539f2cc45b7b9fa7c272da2e1d7'}     0  \n",
       "2  {'offer id': '2906b810c7d4411798c6938adc9daaa5'}     0  \n",
       "3  {'offer id': 'fafdcd668e3743c1bb461111dcafc2a4'}     0  \n",
       "4  {'offer id': '4d5c57ea9a6940dd891ad53e9dbe8da0'}     0  "
      ]
     },
     "execution_count": 5,
     "metadata": {},
     "output_type": "execute_result"
    }
   ],
   "source": [
    "# take a look at transcript df\n",
    "print(transcript.shape)\n",
    "transcript.head()"
   ]
  },
  {
   "cell_type": "markdown",
   "metadata": {},
   "source": [
    "# Data Cleaning and Feature Engineering\n",
    "\n",
    "In this section, I'm gonna clean and create new features for all 3 dfs that will be used in this analysis.\n",
    "\n",
    "Below, I'll describe what exactly was cleaned:\n",
    "\n",
    "**1- Offer df:**\n",
    "\n",
    "- Creating unique name for each offer by using offer type, difficulty, and duration.\n",
    "\n",
    "- Unpacking channel column to multiple columns for our ML model\n",
    "\n",
    "**2- User df:**\n",
    "\n",
    "- Clean age column by changing ages of 118  to nan values (since they're not actually 118)\n",
    "\n",
    "- Change gender values  to be numerical: 0 for null, 1 for males, 2 for females, 3 for others\n",
    "\n",
    "- Create normalized income column for our ML model, and for analysis\n",
    "\n",
    "- Fill income nan values with income columns average\n",
    "\n",
    "- Add join datetime column\n",
    "\n",
    "- Create user age segment and add new column for it\n",
    "\n",
    "- Create columns for join year, month, day\n",
    "\n",
    "- group users in cohorts based on their join date\n",
    "\n",
    "\n",
    "**3- Transcript df:**\n",
    "\n",
    "- unpack value column to multiple columns\n",
    "\n",
    "- remove unnecessary columns\n",
    "\n",
    "- get some columns from offer df and merge them to the transcript df \n",
    "\n",
    "- conver time from hours to days to match offer duration\n",
    "\n",
    "----\n",
    "\n",
    "Finally, I created 4 sub dfs out of transcript df:\n",
    "\n",
    "1- offer received\n",
    "\n",
    "2- offer viewed\n",
    "\n",
    "3- offer completed\n",
    "\n",
    "4- transactions (purchases)\n",
    "\n",
    "These will make some of the analysis cleaner"
   ]
  },
  {
   "cell_type": "code",
   "execution_count": 7,
   "metadata": {},
   "outputs": [],
   "source": [
    "def offers_cleaning(offers):\n",
    "    \n",
    "    '''\n",
    "    INPUT: df of offers\n",
    "    \n",
    "    OUTPUT: df of offers, with added columns: offer_name, channel breakdown, with binary values\n",
    "    '''\n",
    "    \n",
    "    # iterate through al offers\n",
    "    for index, row in offers.iterrows():\n",
    "        \n",
    "        # create a name base on duration, difficulty, and offer type\n",
    "        offers.loc[index, 'offer_name'] = f\"{row['offer_type']}_{row['difficulty']}_{row['duration']}\"\n",
    "    \n",
    "    # initiate empty columns\n",
    "    offers[['email', 'web', 'mobile', 'social']] = 0\n",
    "    \n",
    "    # iterate through the emty columns\n",
    "    for index, row in offers.iterrows():\n",
    "        \n",
    "        # add binary values, if channel is used then 1\n",
    "        for i in row['channels']:\n",
    "\n",
    "            if i == 'email':\n",
    "                offers.loc[index, 'email'] = 1\n",
    "\n",
    "            if i == 'web':\n",
    "                offers.loc[index, 'web'] = 1\n",
    "\n",
    "            if i == 'mobile':\n",
    "                offers.loc[index, 'mobile'] = 1\n",
    "\n",
    "            if i == 'social':\n",
    "                offers.loc[index, 'social'] = 1\n",
    "    \n",
    "    # drop original column\n",
    "    offers.drop(columns=['channels'], inplace=True)\n",
    "    \n",
    "    return offers\n",
    "\n",
    "def user_cleaning(user):\n",
    "    \n",
    "    '''\n",
    "    INPUT: df of users with gender as strings, and age as numeric.\n",
    "    \n",
    "    OUTPUT:\n",
    "    df of users, with genders switched to numeric (0=N/A, 1=Male, 2=Female, 3=Other.\n",
    "    age cleaned, adding nan values instead of 118.\n",
    "    income cleaned and nan values for income are filled with ccolumn average.\n",
    "    add multiple columns columns for joining date.\n",
    "    \n",
    "    '''\n",
    "    \n",
    "    \n",
    "    # clean age values of 118, as they are null values \n",
    "    user.loc[user['age'] == 118, ['age']] = np.nan\n",
    "    \n",
    "    #update gender to be numeric\n",
    "    user.loc[user['gender'].isnull(), ['gender']] = 0\n",
    "    user.loc[user['gender'] == 'M', ['gender']] = 1\n",
    "    user.loc[user['gender'] == 'F', ['gender']] = 2\n",
    "    user.loc[user['gender'] == 'O', ['gender']] = 3\n",
    "    \n",
    "    # craete normalized income column\n",
    "    user['income_normalized'] = round((user['income'] - user['income'].min()) / (user['income'].max() - user['income'].min()) * 100)\n",
    "    \n",
    "    # fill income NaNs with avg column value\n",
    "    user['income_normalized'] = user['income_normalized'].fillna(user['income_normalized'].mean())\n",
    "    user['income'] = user['income'].fillna(user['income'].mean())\n",
    "    \n",
    "    # create age_segments columns\n",
    "    for index, i in enumerate(user['age']):\n",
    "        \n",
    "        if i <= 20:\n",
    "            user.loc[index, 'age_segments'] = '0-20'\n",
    "            \n",
    "        elif i <= 40 and i > 20:\n",
    "            user.loc[index, 'age_segments'] = '20-40'\n",
    "            \n",
    "        elif i <= 60 and i > 40:\n",
    "            user.loc[index, 'age_segments'] = '40-60'\n",
    "            \n",
    "        elif i <= 80 and i > 60:\n",
    "            user.loc[index, 'age_segments'] = '60-80' \n",
    "            \n",
    "        elif i <= 100 and i > 80:\n",
    "            user.loc[index, 'age_segments'] = '80-100'    \n",
    "\n",
    "        else:\n",
    "            user.loc[index, 'age_segments'] = np.nan\n",
    "    \n",
    "    # clean join column and seprate it into multiple columns\n",
    "    user['join_year'] = user['became_member_on'].apply(lambda x: str(x)[:4])\n",
    "    user['join_month'] = user['became_member_on'].apply(lambda x: str(x)[4:6])\n",
    "    user['join_day'] = user['became_member_on'].apply(lambda x: str(x)[6:8])\n",
    "    user['join_date'] = user['became_member_on'].apply(lambda x: f\"{str(x)[0:4]}/{str(x)[4:6]}/{str(x)[6:8]}\")\n",
    "    \n",
    "    # create cohort column\n",
    "    user['cohort'] = np.nan\n",
    "    \n",
    "    # get month name, join it with year and append to cohort column\n",
    "    for idx, u in user.iterrows():\n",
    "        user.loc[idx, 'cohort'] = f\"{u['join_year']}-{datetime.strptime(u['join_month'], '%m').strftime('%b')}\"\n",
    "\n",
    "    return user\n",
    "\n",
    "\n",
    "def transcript_cleaning(transcript, offers):\n",
    "    '''\n",
    "    INPUT: a transcript df with multiple columns, one of which contains nested values in a dictionary.\n",
    "    \n",
    "    OUTPUT:\n",
    "    cleaned transcript df, unpacking the values in the column with dictionaries to multiple columns.\n",
    "    convert time from hours to days\n",
    "    '''\n",
    "    # unpack value column to multiple columns\n",
    "    tran_cleaned = transcript['value'].apply(pd.Series)\n",
    "    tran_cleaned = transcript.join(tran_cleaned)\n",
    "    \n",
    "    #megre offer id columns\n",
    "    tran_cleaned['offer id'].fillna(tran_cleaned['offer_id'], inplace=True)\n",
    "    tran_cleaned.drop(columns=['offer_id', 'value'], inplace=True)\n",
    "    tran_cleaned['offer_id'] = tran_cleaned['offer id']\n",
    "    tran_cleaned.drop(columns=['offer id'], inplace=True)\n",
    "    \n",
    "    #merge columns from offer metadata to transaction table\n",
    "    offer_type = offers[['id','offer_type', 'duration', 'difficulty']]\n",
    "    tran_cleaned = tran_cleaned.merge(offer_type, left_on='offer_id', right_on='id', how='left').drop(columns=['id'])\n",
    "    \n",
    "    #change hours to days\n",
    "    tran_cleaned['time'] = tran_cleaned['time'] / 24\n",
    "    \n",
    "    return tran_cleaned\n"
   ]
  },
  {
   "cell_type": "code",
   "execution_count": 8,
   "metadata": {},
   "outputs": [],
   "source": [
    "# run cleaning functions and store theiir returns\n",
    "\n",
    "tran_cleaned = transcript_cleaning(transcript, offers)\n",
    "user = user_cleaning(user)\n",
    "offers = offers_cleaning(offers)"
   ]
  },
  {
   "cell_type": "code",
   "execution_count": 9,
   "metadata": {},
   "outputs": [],
   "source": [
    "def create_sub_dfs(df):\n",
    "    \n",
    "    '''\n",
    "    \n",
    "    INPUT: transcript df wich contains all events\n",
    "    \n",
    "    OUTPUT: 4 seperate dfs created from unique events from the transcript df\n",
    "    \n",
    "    '''\n",
    "    \n",
    "    df_dict = {}\n",
    "    \n",
    "    # iterate through unqiue events\n",
    "    for index, event in enumerate(tran_cleaned['event'].unique()):\n",
    "        \n",
    "        #create a sub df filtering only the index event and store in a dict\n",
    "        df_dict[event] = tran_cleaned[tran_cleaned['event'] == event]\n",
    "        df_dict[event] = df_dict[event].reset_index().drop(columns=['index', 'event'])\n",
    "        \n",
    "    return df_dict\n",
    "\n",
    "# store the dictionary\n",
    "df_dict = create_sub_dfs(tran_cleaned)\n",
    "\n",
    "\n",
    "def clean_sub_dfs(df_dict):\n",
    "    \n",
    "    '''\n",
    "    \n",
    "    INPUT: dictionary of dfs\n",
    "    OUTPUT: 4 sperate dfs, each one with 1 unique event data. removed columns that have 100% empty values\n",
    "    \n",
    "    '''\n",
    "    \n",
    "    #iterate through dfs\n",
    "    for sub_df in df_dict:\n",
    "        \n",
    "        # iterate through df columns\n",
    "        for column in df_dict[sub_df]:\n",
    "            \n",
    "            # removee column if it's 100% nans\n",
    "            if df_dict[sub_df][column].isna().mean() > 0:\n",
    "                df_dict[sub_df].drop(columns=[column], inplace=True)\n",
    "    \n",
    "    return df_dict['offer received'], df_dict['offer viewed'], df_dict['transaction'], df_dict['offer completed']\n",
    "    \n"
   ]
  },
  {
   "cell_type": "code",
   "execution_count": 10,
   "metadata": {},
   "outputs": [
    {
     "data": {
      "text/plain": [
       "((76277, 6), (57725, 6), (138953, 3), (33579, 7))"
      ]
     },
     "execution_count": 10,
     "metadata": {},
     "output_type": "execute_result"
    }
   ],
   "source": [
    "#create sub dfs for each event type\n",
    "df_received, df_viewed, df_transaction, df_completed = clean_sub_dfs(df_dict)\n",
    "\n",
    "df_received.shape, df_viewed.shape, df_transaction.shape, df_completed.shape"
   ]
  },
  {
   "cell_type": "markdown",
   "metadata": {},
   "source": [
    "# Exploratory Analysis\n",
    "\n",
    "In this section we want to analyis all dfs and try to understand on high level, some stats and grapgh that wil describe our data better."
   ]
  },
  {
   "cell_type": "markdown",
   "metadata": {},
   "source": [
    "### Checking all dfs"
   ]
  },
  {
   "cell_type": "code",
   "execution_count": 11,
   "metadata": {},
   "outputs": [
    {
     "data": {
      "text/html": [
       "<div>\n",
       "<style scoped>\n",
       "    .dataframe tbody tr th:only-of-type {\n",
       "        vertical-align: middle;\n",
       "    }\n",
       "\n",
       "    .dataframe tbody tr th {\n",
       "        vertical-align: top;\n",
       "    }\n",
       "\n",
       "    .dataframe thead th {\n",
       "        text-align: right;\n",
       "    }\n",
       "</style>\n",
       "<table border=\"1\" class=\"dataframe\">\n",
       "  <thead>\n",
       "    <tr style=\"text-align: right;\">\n",
       "      <th></th>\n",
       "      <th>gender</th>\n",
       "      <th>age</th>\n",
       "      <th>id</th>\n",
       "      <th>became_member_on</th>\n",
       "      <th>income</th>\n",
       "      <th>income_normalized</th>\n",
       "      <th>age_segments</th>\n",
       "      <th>join_year</th>\n",
       "      <th>join_month</th>\n",
       "      <th>join_day</th>\n",
       "      <th>join_date</th>\n",
       "      <th>cohort</th>\n",
       "    </tr>\n",
       "  </thead>\n",
       "  <tbody>\n",
       "    <tr>\n",
       "      <th>0</th>\n",
       "      <td>0</td>\n",
       "      <td>NaN</td>\n",
       "      <td>68be06ca386d4c31939f3a4f0e3dd783</td>\n",
       "      <td>20170212</td>\n",
       "      <td>65404.991568</td>\n",
       "      <td>39.337403</td>\n",
       "      <td>NaN</td>\n",
       "      <td>2017</td>\n",
       "      <td>02</td>\n",
       "      <td>12</td>\n",
       "      <td>2017/02/12</td>\n",
       "      <td>2017-Feb</td>\n",
       "    </tr>\n",
       "    <tr>\n",
       "      <th>1</th>\n",
       "      <td>2</td>\n",
       "      <td>55.0</td>\n",
       "      <td>0610b486422d4921ae7d2bf64640c50b</td>\n",
       "      <td>20170715</td>\n",
       "      <td>112000.000000</td>\n",
       "      <td>91.000000</td>\n",
       "      <td>40-60</td>\n",
       "      <td>2017</td>\n",
       "      <td>07</td>\n",
       "      <td>15</td>\n",
       "      <td>2017/07/15</td>\n",
       "      <td>2017-Jul</td>\n",
       "    </tr>\n",
       "    <tr>\n",
       "      <th>2</th>\n",
       "      <td>0</td>\n",
       "      <td>NaN</td>\n",
       "      <td>38fe809add3b4fcf9315a9694bb96ff5</td>\n",
       "      <td>20180712</td>\n",
       "      <td>65404.991568</td>\n",
       "      <td>39.337403</td>\n",
       "      <td>NaN</td>\n",
       "      <td>2018</td>\n",
       "      <td>07</td>\n",
       "      <td>12</td>\n",
       "      <td>2018/07/12</td>\n",
       "      <td>2018-Jul</td>\n",
       "    </tr>\n",
       "    <tr>\n",
       "      <th>3</th>\n",
       "      <td>2</td>\n",
       "      <td>75.0</td>\n",
       "      <td>78afa995795e4d85b5d9ceeca43f5fef</td>\n",
       "      <td>20170509</td>\n",
       "      <td>100000.000000</td>\n",
       "      <td>78.000000</td>\n",
       "      <td>60-80</td>\n",
       "      <td>2017</td>\n",
       "      <td>05</td>\n",
       "      <td>09</td>\n",
       "      <td>2017/05/09</td>\n",
       "      <td>2017-May</td>\n",
       "    </tr>\n",
       "    <tr>\n",
       "      <th>4</th>\n",
       "      <td>0</td>\n",
       "      <td>NaN</td>\n",
       "      <td>a03223e636434f42ac4c3df47e8bac43</td>\n",
       "      <td>20170804</td>\n",
       "      <td>65404.991568</td>\n",
       "      <td>39.337403</td>\n",
       "      <td>NaN</td>\n",
       "      <td>2017</td>\n",
       "      <td>08</td>\n",
       "      <td>04</td>\n",
       "      <td>2017/08/04</td>\n",
       "      <td>2017-Aug</td>\n",
       "    </tr>\n",
       "  </tbody>\n",
       "</table>\n",
       "</div>"
      ],
      "text/plain": [
       "  gender   age                                id  became_member_on  \\\n",
       "0      0   NaN  68be06ca386d4c31939f3a4f0e3dd783          20170212   \n",
       "1      2  55.0  0610b486422d4921ae7d2bf64640c50b          20170715   \n",
       "2      0   NaN  38fe809add3b4fcf9315a9694bb96ff5          20180712   \n",
       "3      2  75.0  78afa995795e4d85b5d9ceeca43f5fef          20170509   \n",
       "4      0   NaN  a03223e636434f42ac4c3df47e8bac43          20170804   \n",
       "\n",
       "          income  income_normalized age_segments join_year join_month  \\\n",
       "0   65404.991568          39.337403          NaN      2017         02   \n",
       "1  112000.000000          91.000000        40-60      2017         07   \n",
       "2   65404.991568          39.337403          NaN      2018         07   \n",
       "3  100000.000000          78.000000        60-80      2017         05   \n",
       "4   65404.991568          39.337403          NaN      2017         08   \n",
       "\n",
       "  join_day   join_date    cohort  \n",
       "0       12  2017/02/12  2017-Feb  \n",
       "1       15  2017/07/15  2017-Jul  \n",
       "2       12  2018/07/12  2018-Jul  \n",
       "3       09  2017/05/09  2017-May  \n",
       "4       04  2017/08/04  2017-Aug  "
      ]
     },
     "execution_count": 11,
     "metadata": {},
     "output_type": "execute_result"
    }
   ],
   "source": [
    "user.head()"
   ]
  },
  {
   "cell_type": "code",
   "execution_count": 12,
   "metadata": {},
   "outputs": [
    {
     "data": {
      "text/html": [
       "<div>\n",
       "<style scoped>\n",
       "    .dataframe tbody tr th:only-of-type {\n",
       "        vertical-align: middle;\n",
       "    }\n",
       "\n",
       "    .dataframe tbody tr th {\n",
       "        vertical-align: top;\n",
       "    }\n",
       "\n",
       "    .dataframe thead th {\n",
       "        text-align: right;\n",
       "    }\n",
       "</style>\n",
       "<table border=\"1\" class=\"dataframe\">\n",
       "  <thead>\n",
       "    <tr style=\"text-align: right;\">\n",
       "      <th></th>\n",
       "      <th>person</th>\n",
       "      <th>event</th>\n",
       "      <th>time</th>\n",
       "      <th>amount</th>\n",
       "      <th>reward</th>\n",
       "      <th>offer_id</th>\n",
       "      <th>offer_type</th>\n",
       "      <th>duration</th>\n",
       "      <th>difficulty</th>\n",
       "    </tr>\n",
       "  </thead>\n",
       "  <tbody>\n",
       "    <tr>\n",
       "      <th>0</th>\n",
       "      <td>78afa995795e4d85b5d9ceeca43f5fef</td>\n",
       "      <td>offer received</td>\n",
       "      <td>0.0</td>\n",
       "      <td>NaN</td>\n",
       "      <td>NaN</td>\n",
       "      <td>9b98b8c7a33c4b65b9aebfe6a799e6d9</td>\n",
       "      <td>bogo</td>\n",
       "      <td>7.0</td>\n",
       "      <td>5.0</td>\n",
       "    </tr>\n",
       "    <tr>\n",
       "      <th>1</th>\n",
       "      <td>a03223e636434f42ac4c3df47e8bac43</td>\n",
       "      <td>offer received</td>\n",
       "      <td>0.0</td>\n",
       "      <td>NaN</td>\n",
       "      <td>NaN</td>\n",
       "      <td>0b1e1539f2cc45b7b9fa7c272da2e1d7</td>\n",
       "      <td>discount</td>\n",
       "      <td>10.0</td>\n",
       "      <td>20.0</td>\n",
       "    </tr>\n",
       "    <tr>\n",
       "      <th>2</th>\n",
       "      <td>e2127556f4f64592b11af22de27a7932</td>\n",
       "      <td>offer received</td>\n",
       "      <td>0.0</td>\n",
       "      <td>NaN</td>\n",
       "      <td>NaN</td>\n",
       "      <td>2906b810c7d4411798c6938adc9daaa5</td>\n",
       "      <td>discount</td>\n",
       "      <td>7.0</td>\n",
       "      <td>10.0</td>\n",
       "    </tr>\n",
       "    <tr>\n",
       "      <th>3</th>\n",
       "      <td>8ec6ce2a7e7949b1bf142def7d0e0586</td>\n",
       "      <td>offer received</td>\n",
       "      <td>0.0</td>\n",
       "      <td>NaN</td>\n",
       "      <td>NaN</td>\n",
       "      <td>fafdcd668e3743c1bb461111dcafc2a4</td>\n",
       "      <td>discount</td>\n",
       "      <td>10.0</td>\n",
       "      <td>10.0</td>\n",
       "    </tr>\n",
       "    <tr>\n",
       "      <th>4</th>\n",
       "      <td>68617ca6246f4fbc85e91a2a49552598</td>\n",
       "      <td>offer received</td>\n",
       "      <td>0.0</td>\n",
       "      <td>NaN</td>\n",
       "      <td>NaN</td>\n",
       "      <td>4d5c57ea9a6940dd891ad53e9dbe8da0</td>\n",
       "      <td>bogo</td>\n",
       "      <td>5.0</td>\n",
       "      <td>10.0</td>\n",
       "    </tr>\n",
       "  </tbody>\n",
       "</table>\n",
       "</div>"
      ],
      "text/plain": [
       "                             person           event  time  amount  reward  \\\n",
       "0  78afa995795e4d85b5d9ceeca43f5fef  offer received   0.0     NaN     NaN   \n",
       "1  a03223e636434f42ac4c3df47e8bac43  offer received   0.0     NaN     NaN   \n",
       "2  e2127556f4f64592b11af22de27a7932  offer received   0.0     NaN     NaN   \n",
       "3  8ec6ce2a7e7949b1bf142def7d0e0586  offer received   0.0     NaN     NaN   \n",
       "4  68617ca6246f4fbc85e91a2a49552598  offer received   0.0     NaN     NaN   \n",
       "\n",
       "                           offer_id offer_type  duration  difficulty  \n",
       "0  9b98b8c7a33c4b65b9aebfe6a799e6d9       bogo       7.0         5.0  \n",
       "1  0b1e1539f2cc45b7b9fa7c272da2e1d7   discount      10.0        20.0  \n",
       "2  2906b810c7d4411798c6938adc9daaa5   discount       7.0        10.0  \n",
       "3  fafdcd668e3743c1bb461111dcafc2a4   discount      10.0        10.0  \n",
       "4  4d5c57ea9a6940dd891ad53e9dbe8da0       bogo       5.0        10.0  "
      ]
     },
     "execution_count": 12,
     "metadata": {},
     "output_type": "execute_result"
    }
   ],
   "source": [
    "tran_cleaned.head()"
   ]
  },
  {
   "cell_type": "markdown",
   "metadata": {},
   "source": [
    "### Printing our user df description"
   ]
  },
  {
   "cell_type": "code",
   "execution_count": 14,
   "metadata": {},
   "outputs": [
    {
     "data": {
      "text/html": [
       "<div>\n",
       "<style scoped>\n",
       "    .dataframe tbody tr th:only-of-type {\n",
       "        vertical-align: middle;\n",
       "    }\n",
       "\n",
       "    .dataframe tbody tr th {\n",
       "        vertical-align: top;\n",
       "    }\n",
       "\n",
       "    .dataframe thead th {\n",
       "        text-align: right;\n",
       "    }\n",
       "</style>\n",
       "<table border=\"1\" class=\"dataframe\">\n",
       "  <thead>\n",
       "    <tr style=\"text-align: right;\">\n",
       "      <th></th>\n",
       "      <th>age</th>\n",
       "      <th>became_member_on</th>\n",
       "      <th>income</th>\n",
       "      <th>income_normalized</th>\n",
       "    </tr>\n",
       "  </thead>\n",
       "  <tbody>\n",
       "    <tr>\n",
       "      <th>count</th>\n",
       "      <td>14825.000000</td>\n",
       "      <td>1.700000e+04</td>\n",
       "      <td>17000.000000</td>\n",
       "      <td>17000.000000</td>\n",
       "    </tr>\n",
       "    <tr>\n",
       "      <th>mean</th>\n",
       "      <td>54.393524</td>\n",
       "      <td>2.016703e+07</td>\n",
       "      <td>65404.991568</td>\n",
       "      <td>39.337403</td>\n",
       "    </tr>\n",
       "    <tr>\n",
       "      <th>std</th>\n",
       "      <td>17.383705</td>\n",
       "      <td>1.167750e+04</td>\n",
       "      <td>20169.288288</td>\n",
       "      <td>22.423288</td>\n",
       "    </tr>\n",
       "    <tr>\n",
       "      <th>min</th>\n",
       "      <td>18.000000</td>\n",
       "      <td>2.013073e+07</td>\n",
       "      <td>30000.000000</td>\n",
       "      <td>0.000000</td>\n",
       "    </tr>\n",
       "    <tr>\n",
       "      <th>25%</th>\n",
       "      <td>42.000000</td>\n",
       "      <td>2.016053e+07</td>\n",
       "      <td>51000.000000</td>\n",
       "      <td>23.000000</td>\n",
       "    </tr>\n",
       "    <tr>\n",
       "      <th>50%</th>\n",
       "      <td>55.000000</td>\n",
       "      <td>2.017080e+07</td>\n",
       "      <td>65404.991568</td>\n",
       "      <td>39.337403</td>\n",
       "    </tr>\n",
       "    <tr>\n",
       "      <th>75%</th>\n",
       "      <td>66.000000</td>\n",
       "      <td>2.017123e+07</td>\n",
       "      <td>76000.000000</td>\n",
       "      <td>51.000000</td>\n",
       "    </tr>\n",
       "    <tr>\n",
       "      <th>max</th>\n",
       "      <td>101.000000</td>\n",
       "      <td>2.018073e+07</td>\n",
       "      <td>120000.000000</td>\n",
       "      <td>100.000000</td>\n",
       "    </tr>\n",
       "  </tbody>\n",
       "</table>\n",
       "</div>"
      ],
      "text/plain": [
       "                age  became_member_on         income  income_normalized\n",
       "count  14825.000000      1.700000e+04   17000.000000       17000.000000\n",
       "mean      54.393524      2.016703e+07   65404.991568          39.337403\n",
       "std       17.383705      1.167750e+04   20169.288288          22.423288\n",
       "min       18.000000      2.013073e+07   30000.000000           0.000000\n",
       "25%       42.000000      2.016053e+07   51000.000000          23.000000\n",
       "50%       55.000000      2.017080e+07   65404.991568          39.337403\n",
       "75%       66.000000      2.017123e+07   76000.000000          51.000000\n",
       "max      101.000000      2.018073e+07  120000.000000         100.000000"
      ]
     },
     "execution_count": 14,
     "metadata": {},
     "output_type": "execute_result"
    }
   ],
   "source": [
    "user.describe()"
   ]
  },
  {
   "cell_type": "markdown",
   "metadata": {},
   "source": [
    "### plotting basic columns from our user df"
   ]
  },
  {
   "cell_type": "code",
   "execution_count": 15,
   "metadata": {},
   "outputs": [
    {
     "data": {
      "image/png": "[encoded data removed]",
      "text/plain": [
       "<Figure size 432x288 with 2 Axes>"
      ]
     },
     "metadata": {
      "needs_background": "light"
     },
     "output_type": "display_data"
    }
   ],
   "source": [
    "user[['age', 'income_normalized']].hist();"
   ]
  },
  {
   "cell_type": "code",
   "execution_count": 16,
   "metadata": {},
   "outputs": [
    {
     "data": {
      "image/png": "[encoded data removed]",
      "text/plain": [
       "<Figure size 432x288 with 1 Axes>"
      ]
     },
     "metadata": {
      "needs_background": "light"
     },
     "output_type": "display_data"
    }
   ],
   "source": [
    "user['age_segments'].hist();"
   ]
  },
  {
   "cell_type": "markdown",
   "metadata": {},
   "source": [
    "### Printing some basic stats\n",
    "\n",
    "We want to look are some rates that will help us understand the defference of effect each offer provides"
   ]
  },
  {
   "cell_type": "code",
   "execution_count": 17,
   "metadata": {},
   "outputs": [],
   "source": [
    "def get_basic_stats(received_count, viewed_count, completed_count):\n",
    "    \n",
    "    print(\"Offers Received:\",received_count)\n",
    "    print(\"Offers Viewed:\",viewed_count)\n",
    "    print(\"Offers Completed:\",completed_count)\n",
    "    print()\n",
    "    print(\"View Through Rate:\", int(viewed_count / received_count * 100),\"%\")\n",
    "    print(\"Completion Rate:\", int(completed_count / received_count * 100),\"%\")\n",
    "    print()"
   ]
  },
  {
   "cell_type": "markdown",
   "metadata": {},
   "source": [
    "#### looking at all offers combined"
   ]
  },
  {
   "cell_type": "code",
   "execution_count": 18,
   "metadata": {},
   "outputs": [
    {
     "name": "stdout",
     "output_type": "stream",
     "text": [
      "Offers Received: 76277\n",
      "Offers Viewed: 57725\n",
      "Offers Completed: 33579\n",
      "\n",
      "View Through Rate: 75 %\n",
      "Completion Rate: 44 %\n",
      "\n"
     ]
    }
   ],
   "source": [
    "received_count_all = len(df_received)\n",
    "viewed_count_all = len(df_viewed)\n",
    "completed_count_all = len(df_completed)\n",
    "\n",
    "get_basic_stats(received_count_all, viewed_count_all, completed_count_all)"
   ]
  },
  {
   "cell_type": "markdown",
   "metadata": {},
   "source": [
    "#### looking at bogo offers"
   ]
  },
  {
   "cell_type": "code",
   "execution_count": 19,
   "metadata": {},
   "outputs": [
    {
     "name": "stdout",
     "output_type": "stream",
     "text": [
      "Offers Received: 30499\n",
      "Offers Viewed: 25449\n",
      "Offers Completed: 15669\n",
      "\n",
      "View Through Rate: 83 %\n",
      "Completion Rate: 51 %\n",
      "\n"
     ]
    }
   ],
   "source": [
    "received_count_bogo = len(df_received[df_received['offer_type'] == 'bogo'])\n",
    "viewed_count_bogo = len(df_viewed[df_viewed['offer_type'] == 'bogo'])\n",
    "completed_count_bogo = len(df_completed[df_completed['offer_type'] == 'bogo'])\n",
    "\n",
    "get_basic_stats(received_count_bogo, viewed_count_bogo, completed_count_bogo)"
   ]
  },
  {
   "cell_type": "markdown",
   "metadata": {},
   "source": [
    "#### looking at discout offers"
   ]
  },
  {
   "cell_type": "code",
   "execution_count": 20,
   "metadata": {},
   "outputs": [
    {
     "name": "stdout",
     "output_type": "stream",
     "text": [
      "Offers Received: 30543\n",
      "Offers Viewed: 21445\n",
      "Offers Completed: 17910\n",
      "\n",
      "View Through Rate: 70 %\n",
      "Completion Rate: 58 %\n",
      "\n"
     ]
    }
   ],
   "source": [
    "received_count_bogo = len(df_received[df_received['offer_type'] == 'discount'])\n",
    "viewed_count_bogo = len(df_viewed[df_viewed['offer_type'] == 'discount'])\n",
    "completed_count_bogo = len(df_completed[df_completed['offer_type'] == 'discount'])\n",
    "\n",
    "get_basic_stats(received_count_bogo, viewed_count_bogo, completed_count_bogo)"
   ]
  },
  {
   "cell_type": "markdown",
   "metadata": {},
   "source": [
    "#### looking at informational offers"
   ]
  },
  {
   "cell_type": "code",
   "execution_count": 21,
   "metadata": {},
   "outputs": [
    {
     "name": "stdout",
     "output_type": "stream",
     "text": [
      "Offers Received: 15235\n",
      "Offers Viewed: 10831\n",
      "Offers Completed: 0\n",
      "\n",
      "View Through Rate: 71 %\n",
      "Completion Rate: 0 %\n",
      "\n"
     ]
    }
   ],
   "source": [
    "received_count_bogo = len(df_received[df_received['offer_type'] == 'informational'])\n",
    "viewed_count_bogo = len(df_viewed[df_viewed['offer_type'] == 'informational'])\n",
    "completed_count_bogo = len(df_completed[df_completed['offer_type'] == 'informational'])\n",
    "\n",
    "get_basic_stats(received_count_bogo, viewed_count_bogo, completed_count_bogo)"
   ]
  },
  {
   "cell_type": "markdown",
   "metadata": {},
   "source": [
    "#### caluculating total received rewards by offer type"
   ]
  },
  {
   "cell_type": "code",
   "execution_count": 22,
   "metadata": {},
   "outputs": [
    {
     "data": {
      "text/html": [
       "<div>\n",
       "<style scoped>\n",
       "    .dataframe tbody tr th:only-of-type {\n",
       "        vertical-align: middle;\n",
       "    }\n",
       "\n",
       "    .dataframe tbody tr th {\n",
       "        vertical-align: top;\n",
       "    }\n",
       "\n",
       "    .dataframe thead th {\n",
       "        text-align: right;\n",
       "    }\n",
       "</style>\n",
       "<table border=\"1\" class=\"dataframe\">\n",
       "  <thead>\n",
       "    <tr style=\"text-align: right;\">\n",
       "      <th></th>\n",
       "      <th>offer_type</th>\n",
       "      <th>reward</th>\n",
       "    </tr>\n",
       "  </thead>\n",
       "  <tbody>\n",
       "    <tr>\n",
       "      <th>0</th>\n",
       "      <td>bogo</td>\n",
       "      <td>113440.0</td>\n",
       "    </tr>\n",
       "    <tr>\n",
       "      <th>1</th>\n",
       "      <td>discount</td>\n",
       "      <td>51236.0</td>\n",
       "    </tr>\n",
       "  </tbody>\n",
       "</table>\n",
       "</div>"
      ],
      "text/plain": [
       "  offer_type    reward\n",
       "0       bogo  113440.0\n",
       "1   discount   51236.0"
      ]
     },
     "execution_count": 22,
     "metadata": {},
     "output_type": "execute_result"
    }
   ],
   "source": [
    "# calculate rewards received by offer type\n",
    "df_completed.groupby(\"offer_type\")['reward'].sum().reset_index()"
   ]
  },
  {
   "cell_type": "markdown",
   "metadata": {},
   "source": [
    "### Now, let's look at some graphs!"
   ]
  },
  {
   "cell_type": "markdown",
   "metadata": {},
   "source": [
    "here, we will take a look at daily purchases as a line graph, and then plotting red dots to show when our offers were sent by day. This is to illustrate offers effect on purchases"
   ]
  },
  {
   "cell_type": "code",
   "execution_count": 23,
   "metadata": {},
   "outputs": [
    {
     "data": {
      "image/png": "[encoded data removed]",
      "text/plain": [
       "<Figure size 432x288 with 2 Axes>"
      ]
     },
     "metadata": {
      "needs_background": "light"
     },
     "output_type": "display_data"
    }
   ],
   "source": [
    "# aggregating necessary data\n",
    "offer_sent_times = df_received['time'].unique()\n",
    "amounts_by_time = df_transaction.groupby('time')['amount'].count().reset_index()\n",
    "\n",
    "# store 1 x and 2 ys\n",
    "x = amounts_by_time['time']\n",
    "y_1 = amounts_by_time['amount']\n",
    "y_2 = offer_sent_times\n",
    "\n",
    "\n",
    "# aligning y_2 shape with x\n",
    "zeros = np.zeros(120)\n",
    "\n",
    "for index, i in enumerate(x):\n",
    "    for idx, y in enumerate(y_2):\n",
    "        if i == y:\n",
    "            # random number to show the dots properly\n",
    "            if y == 0:\n",
    "                zeros[index] = y+2\n",
    "            else:\n",
    "                zeros[index] = y\n",
    "\n",
    "# store y_2 after alignment\n",
    "y_2 = zeros\n",
    "\n",
    "#plotting a line chart\n",
    "fig, ax1 = plt.subplots()\n",
    "ax1.plot(x, y_1);\n",
    "plt.xlim([-1, 30])\n",
    "plt.xlabel('Time', size=10)\n",
    "plt.ylabel('Transactions Count', size=10)\n",
    "\n",
    "ax2 = ax1.twinx()\n",
    "ax2.scatter(x, y_2, color='red');\n",
    "plt.ylabel('Offers Sent Day', size=10)\n",
    "plt.ylim([1, 30]);"
   ]
  },
  {
   "cell_type": "markdown",
   "metadata": {},
   "source": [
    "#### Let's look at our daily revenue from the transaction table"
   ]
  },
  {
   "cell_type": "code",
   "execution_count": 24,
   "metadata": {},
   "outputs": [
    {
     "data": {
      "image/png": "[encoded data removed]",
      "text/plain": [
       "<Figure size 432x288 with 1 Axes>"
      ]
     },
     "metadata": {
      "needs_background": "light"
     },
     "output_type": "display_data"
    }
   ],
   "source": [
    "# Plotting Revenue by day\n",
    "rev_x = df_transaction.groupby('time').sum()['amount'].keys()\n",
    "rev_y = df_transaction.groupby('time').sum()['amount'].values\n",
    "\n",
    "plt.bar(rev_x, rev_y, width=0.3, color='green')\n",
    "plt.xlabel('days', size=10)\n",
    "plt.ylabel('revenue', size=10)\n",
    "plt.show()"
   ]
  },
  {
   "cell_type": "markdown",
   "metadata": {},
   "source": [
    "#### Here, let's look at offer type as a bar graph for each gender"
   ]
  },
  {
   "cell_type": "code",
   "execution_count": 25,
   "metadata": {
    "scrolled": true
   },
   "outputs": [
    {
     "data": {
      "image/png": "[encoded data removed]",
      "text/plain": [
       "<Figure size 432x288 with 1 Axes>"
      ]
     },
     "metadata": {
      "needs_background": "light"
     },
     "output_type": "display_data"
    }
   ],
   "source": [
    "# Merge transactions with user table\n",
    "df_completed_user = pd.merge(df_completed, user, left_on='person', right_on='id').drop(columns=['id', 'income_normalized', 'became_member_on'])\n",
    "\n",
    "\n",
    "# create seperate counts for each gender type\n",
    "male = list(df_completed_user.loc[df_completed_user['gender'] == 1].groupby('offer_type').count()['gender'])\n",
    "female = list(df_completed_user.loc[df_completed_user['gender'] == 2].groupby('offer_type').count()['gender'])\n",
    "other = list(df_completed_user.loc[df_completed_user['gender'] == 3].groupby('offer_type').count()['gender'])\n",
    "\n",
    "# create labels for the graph\n",
    "labels = ['bogo', 'discount']\n",
    "width = 0.4\n",
    "\n",
    "\n",
    "# plotting\n",
    "fig, ax = plt.subplots()\n",
    "\n",
    "ax.bar(labels, other, width, label='other', color='red')\n",
    "ax.bar(labels, male, width, label='male', bottom=other, color='gold')\n",
    "ax.bar(labels, female, width, label='female', bottom=male, color='orange')\n",
    "\n",
    "\n",
    "ax.set_ylim([0, 15000])\n",
    "ax.set_ylabel('Completed Offers')\n",
    "ax.set_title('Offers Completed By Type and Gender')\n",
    "\n",
    "plt.xticks(labels)\n",
    "plt.yticks(np.arange(0, 20000, 2000))\n",
    "\n",
    "ax.legend()\n",
    "plt.show()"
   ]
  },
  {
   "cell_type": "markdown",
   "metadata": {},
   "source": [
    "#### Let look at age range offer prefereences"
   ]
  },
  {
   "cell_type": "code",
   "execution_count": 26,
   "metadata": {},
   "outputs": [
    {
     "data": {
      "image/png": "[encoded data removed]",
      "text/plain": [
       "<Figure size 432x288 with 1 Axes>"
      ]
     },
     "metadata": {
      "needs_background": "light"
     },
     "output_type": "display_data"
    }
   ],
   "source": [
    "# create seperate counts for each age range\n",
    "age_0_20 =  df_completed_user.loc[df_completed_user['age_segments'] == '0-20'].groupby('offer_type').count()['age_segments']\n",
    "age_20_40 =  df_completed_user.loc[df_completed_user['age_segments'] == '20-40'].groupby('offer_type').count()['age_segments']\n",
    "age_40_60 =  df_completed_user.loc[df_completed_user['age_segments'] == '40-60'].groupby('offer_type').count()['age_segments']\n",
    "age_60_80 =  df_completed_user.loc[df_completed_user['age_segments'] == '60-80'].groupby('offer_type').count()['age_segments']\n",
    "age_80_100 =  df_completed_user.loc[df_completed_user['age_segments'] == '80-100'].groupby('offer_type').count()['age_segments']\n",
    "\n",
    "# create labels for the graph\n",
    "labels = ['bogo', 'discount']\n",
    "width = 0.4\n",
    "\n",
    "\n",
    "# plotting\n",
    "fig, ax = plt.subplots()\n",
    "\n",
    "ax.bar(labels, age_0_20, width, label='0-20', color='red')\n",
    "ax.bar(labels, age_80_100, width, label='80-100', bottom=age_0_20, color='brown')\n",
    "ax.bar(labels, age_20_40, width, label='20-40', bottom=age_80_100, color='gold')\n",
    "ax.bar(labels, age_40_60, width, label='40-60', bottom=age_20_40, color='orange')\n",
    "ax.bar(labels, age_60_80, width, label='60-80', bottom=age_40_60, color='purple')\n",
    "\n",
    "\n",
    "\n",
    "ax.set_ylim([0, 15000])\n",
    "ax.set_ylabel('Completed Offers')\n",
    "ax.set_title('Offers Completed By Type and Age Range')\n",
    "\n",
    "plt.xticks(labels)\n",
    "plt.yticks(np.arange(0, 20000, 2000))\n",
    "\n",
    "ax.legend()\n",
    "plt.show()"
   ]
  },
  {
   "cell_type": "markdown",
   "metadata": {},
   "source": [
    "#### Let's take a look at cohort data.\n",
    "\n",
    "This graph shows users who completed offers grouped by their joining year"
   ]
  },
  {
   "cell_type": "code",
   "execution_count": 83,
   "metadata": {
    "scrolled": true
   },
   "outputs": [
    {
     "data": {
      "image/png": "[encoded data removed]",
      "text/plain": [
       "<Figure size 432x288 with 1 Axes>"
      ]
     },
     "metadata": {
      "needs_background": "light"
     },
     "output_type": "display_data"
    }
   ],
   "source": [
    "# store x and y for completed offers by joining year\n",
    "x_cohort = df_completed_user.groupby('join_year').count()['person'].reset_index().sort_values(by=['join_year'])['join_year']\n",
    "y_cohort = df_completed_user.groupby('join_year').count()['person'].reset_index().sort_values(by=['join_year'])['person']\n",
    "\n",
    "plt.bar(x_cohort, y_cohort);"
   ]
  },
  {
   "cell_type": "code",
   "execution_count": 96,
   "metadata": {},
   "outputs": [
    {
     "data": {
      "image/png": "[encoded data removed]",
      "text/plain": [
       "<Figure size 432x288 with 1 Axes>"
      ]
     },
     "metadata": {
      "needs_background": "light"
     },
     "output_type": "display_data"
    }
   ],
   "source": [
    "plt.bar(user.groupby('join_year').count()['id'].keys(), user.groupby('join_year').count()['id'].values, color='green');"
   ]
  },
  {
   "cell_type": "markdown",
   "metadata": {},
   "source": [
    "#### Revenue by offer\n",
    "\n",
    "Since we don't have offer id for purchases, it would be faster to sum the difficulty column for completed offers to get how much did people pay for each offer in total."
   ]
  },
  {
   "cell_type": "markdown",
   "metadata": {},
   "source": [
    "In terms of revenue, it seems that discout  offers bring moree revenue that bogo offers, you can sse that 4 out of top 5 offers are discounts. "
   ]
  },
  {
   "cell_type": "code",
   "execution_count": 28,
   "metadata": {},
   "outputs": [
    {
     "data": {
      "image/png": "[encoded data removed]",
      "text/plain": [
       "<Figure size 432x288 with 1 Axes>"
      ]
     },
     "metadata": {
      "needs_background": "light"
     },
     "output_type": "display_data"
    }
   ],
   "source": [
    "rev_by_offer = tran_cleaned.merge(offers, left_on='offer_id', right_on='id', how='left')\n",
    "rev_by_offer = rev_by_offer[['person', 'event', 'time', 'amount', 'reward_x', 'offer_id', 'offer_name','offer_type_x', 'duration_x', 'difficulty_x']]\n",
    "rev_by_offer = rev_by_offer[rev_by_offer['event'] == 'offer completed']\n",
    "rev_by_offer = rev_by_offer.groupby('offer_name').sum().reset_index().sort_values(by='difficulty_x',ascending=False)\n",
    "#rev_by_offer.columns = ['offer_name', 'revenue']\n",
    "\n",
    "plt.barh(rev_by_offer['offer_name'][:8], rev_by_offer['difficulty_x'][:8], color='purple')\n",
    "plt.xlabel('Revenue')\n",
    "plt.ylabel('Offer Name')\n",
    "plt.show()"
   ]
  },
  {
   "cell_type": "code",
   "execution_count": 97,
   "metadata": {},
   "outputs": [
    {
     "data": {
      "image/png": "[encoded data removed]",
      "text/plain": [
       "<Figure size 432x288 with 1 Axes>"
      ]
     },
     "metadata": {
      "needs_background": "light"
     },
     "output_type": "display_data"
    }
   ],
   "source": [
    "rev_by_offer = tran_cleaned.merge(offers, left_on='offer_id', right_on='id', how='left')\n",
    "rev_by_offer = rev_by_offer[['person', 'event', 'time', 'amount', 'reward_x', 'offer_id', 'offer_name','offer_type_x', 'duration_x', 'difficulty_x']]\n",
    "rev_by_offer = rev_by_offer[rev_by_offer['event'] == 'offer completed']\n",
    "rev_by_offer = rev_by_offer.groupby('offer_name').count().reset_index().sort_values(by='difficulty_x',ascending=False)\n",
    "#rev_by_offer.columns = ['offer_name', 'revenue']\n",
    "\n",
    "plt.barh(rev_by_offer['offer_name'][:8], rev_by_offer['difficulty_x'][:8], color='gold')\n",
    "plt.xlabel('Revenue')\n",
    "plt.ylabel('Offer Name')\n",
    "plt.show()"
   ]
  },
  {
   "cell_type": "markdown",
   "metadata": {},
   "source": [
    "# Further Feature Engineering\n",
    "\n",
    "This is the most important step.\n",
    "Here, we will create a new binary column for each user-offer combination and check if the offer affected the user to make a purchase and complete the offer or not.\n",
    "Basically, we will check whether the user received, viewed and completed that offer in the given offer duration.\n",
    "For users who didn't view that offer, we will not consider the offer effective with them.\n",
    "And for the informational offers, since they don't have completion event, we need to account for that, by checking if the user received and viewed the offer and within the informational offer duration made a purchase."
   ]
  },
  {
   "cell_type": "code",
   "execution_count": 29,
   "metadata": {},
   "outputs": [],
   "source": [
    "def user_offer_df(user):\n",
    "    \n",
    "    '''\n",
    "    \n",
    "    INPUT: user id\n",
    "    \n",
    "    OUTPUT: a user df with offer ids as rows and binary values and event types as columns ['received', 'viewed', 'completed']\n",
    "    \n",
    "    '''    \n",
    "    \n",
    "    # initiate empty df\n",
    "    df_user = pd.DataFrame(columns=['offer_id', 'received', 'viewed', 'completed'])\n",
    "    \n",
    "    # iterate through of ids\n",
    "    for index, offer in enumerate(offers['id']):\n",
    "        \n",
    "        # store offer id as the main df column\n",
    "        df_user.loc[index, 'offer_id'] = offer\n",
    "        \n",
    "        # if a user recieved this offer id iteration, add 1 as value\n",
    "        if len(df_received[(df_received['person'] == user) & (df_received['offer_id'] == offer)]) > 0:\n",
    "            df_user.loc[index, 'received'] = 1\n",
    "        else:\n",
    "            df_user.loc[index, 'received'] = 0\n",
    "            \n",
    "        # if a user viewed this offer id iteration, add 1 as value\n",
    "        if len(df_viewed[(df_viewed['person'] == user) & (df_viewed['offer_id'] == offer)]) > 0:\n",
    "            df_user.loc[index, 'viewed'] = 1\n",
    "        else:\n",
    "            df_user.loc[index, 'viewed'] = 0\n",
    "            \n",
    "        # if a user completed this offer id iteration, add 1 as value    \n",
    "        if len(df_completed[(df_completed['person'] == user) & (df_completed['offer_id'] == offer)]) > 0:\n",
    "            df_user.loc[index, 'completed'] = 1\n",
    "        else:\n",
    "            df_user.loc[index, 'completed'] = 0\n",
    "        \n",
    "        \n",
    "    return df_user\n",
    "\n",
    "\n",
    "\n",
    "def user_update_info(user):\n",
    "\n",
    "    '''\n",
    "    \n",
    "    INPUT: user id\n",
    "    \n",
    "    OUTPUT: creates a user df using (user_offer_df).\n",
    "    checks if a user made a purchase within the informational offer duration, then updates informational offers (completed) column \n",
    "    \n",
    "    '''    \n",
    "    \n",
    "    # create user df using the above function\n",
    "    df_user = user_offer_df(user)\n",
    "    \n",
    "    # create a df with received informatioal offers only for a particular user\n",
    "    info_table = df_received[(df_received['person'] == user) & (df_received['offer_type'] == 'informational')]\n",
    "    \n",
    "    # create a df with user's purchases\n",
    "    purchase_table = df_transaction[df_transaction['person'] == user]\n",
    "    \n",
    "    \n",
    "    # if a user received an informational offer\n",
    "    if len(info_table) > 0:\n",
    "        \n",
    "        # iterate through informational offers\n",
    "        for index, row in info_table.iterrows():\n",
    "            \n",
    "            # store duration time and when was the offer received\n",
    "            duration = row['duration']\n",
    "            received_time = row['time']\n",
    "            \n",
    "            # iterate through the purchase table to see if there's any purchases with in the duration period\n",
    "            for idx, r in purchase_table.iterrows():\n",
    "                \n",
    "                purchase_time = r['time']\n",
    "                \n",
    "                if purchase_time-received_time <= duration:\n",
    "                    \n",
    "                    df_user.loc[df_user['offer_id'] == row['offer_id'], 'completed'] = 1\n",
    "                    \n",
    "                else:\n",
    "                    pass\n",
    "                \n",
    "    return df_user\n",
    "\n",
    "\n",
    "\n",
    "def create_combined_df(num_users=10):\n",
    "\n",
    "    '''\n",
    "    \n",
    "    INPUT: number of users\n",
    "    \n",
    "    OUTPUT: iterates through the number of users inputted and create a df with each user and promotion combanation.\n",
    "    and wether the user was effected by the offer or not.\n",
    "    Creates the following columns [user_id, offer_id, offer_effect, offer_completed]\n",
    "    \n",
    "    '''    \n",
    "    # initiate empty combined df       \n",
    "    df = pd.DataFrame(columns=['user_id', 'offer_id','offer_effect', 'offer_completed'])\n",
    "    \n",
    "    # index for iteration\n",
    "    idx = 0\n",
    "    counter = 0\n",
    "    \n",
    "    # function run time\n",
    "    begin = time.time()\n",
    "    \n",
    "    #iterate through users\n",
    "    for i in user['id'][:num_users]:\n",
    "        \n",
    "        # create a user df\n",
    "        user_df = user_update_info(i)\n",
    "\n",
    "        # iterate through the user df\n",
    "        for index, row in user_df.iterrows():\n",
    "\n",
    "            # store user id in the combined df\n",
    "            df.loc[idx, 'user_id'] = i\n",
    "            \n",
    "            # store offer id in the combined df\n",
    "            df.loc[idx, 'offer_id'] = row['offer_id']\n",
    "            \n",
    "            # check if offer is completed\n",
    "            if row['completed'] == 1:\n",
    "                df.loc[idx, 'offer_completed'] = 1\n",
    "            if row['completed'] == 0:\n",
    "                df.loc[idx, 'offer_completed'] = 0\n",
    "            \n",
    "            # check if offer is completed after viewing it\n",
    "            if row['received'] + row['viewed'] + row['completed'] == 3:\n",
    "                df.loc[idx, 'offer_effect'] = 1\n",
    "            \n",
    "            # check if offer was received\n",
    "            if row['received'] + row['viewed'] + row['completed'] == 0:\n",
    "                df.loc[idx, 'offer_effect'] = np.nan\n",
    "            \n",
    "            # check if offer was recived and completed but not viewed\n",
    "            if row['received'] + row['viewed'] + row['completed'] == 1:\n",
    "                df.loc[idx, 'offer_effect'] = 0\n",
    "            if row['received'] + row['viewed'] + row['completed'] == 2:\n",
    "                df.loc[idx, 'offer_effect'] = 0\n",
    "\n",
    "            idx += 1\n",
    "        counter += 1\n",
    "        \n",
    "        if counter % 500  == 0:\n",
    "            print(counter)\n",
    "            \n",
    "    end = time.time()\n",
    "    \n",
    "    print(end - begin)\n",
    "\n",
    "    return df"
   ]
  },
  {
   "cell_type": "markdown",
   "metadata": {},
   "source": [
    "# Running the functions!\n",
    "\n",
    "The cell below is to run the functions above, and since we have 17K users and +300K transaction, it takes a couple of hours to run. \n",
    "\n",
    "To save your time, I already ran the functions on all users and transactions/events and stored the df in a csv file called 'df_check_all.csv'.\n",
    "\n",
    "in the second cell, I wrote down a line to read the csv file to make it faster"
   ]
  },
  {
   "cell_type": "code",
   "execution_count": 30,
   "metadata": {},
   "outputs": [],
   "source": [
    "#df_check = create_combined_df(17000)\n",
    "#df_check.to_csv('df_check_all.csv')"
   ]
  },
  {
   "cell_type": "code",
   "execution_count": 31,
   "metadata": {},
   "outputs": [],
   "source": [
    "df_check = pd.read_csv('df_check_all.csv').drop(columns=['Unnamed: 0'])"
   ]
  },
  {
   "cell_type": "code",
   "execution_count": 32,
   "metadata": {},
   "outputs": [
    {
     "data": {
      "text/plain": [
       "(170000, 4)"
      ]
     },
     "execution_count": 32,
     "metadata": {},
     "output_type": "execute_result"
    }
   ],
   "source": [
    "df_check.shape"
   ]
  },
  {
   "cell_type": "markdown",
   "metadata": {},
   "source": [
    "# Creating Final Datasets for ML Model\n",
    "\n",
    "In this stage, I'm creating two different data sets out of df_check:\n",
    "\n",
    "1- ***user_offer:*** \n",
    "Which has unique users as rows, multiple features from user and offer datasets, and with the user most preferred offer as labels \n",
    "\n",
    "2- ***offer_user:*** \n",
    "Which has all offer-user combanations with mulltiple features, and wether the user preferes the offer or not as labels\n",
    "\n",
    "\n",
    "\n"
   ]
  },
  {
   "cell_type": "code",
   "execution_count": 69,
   "metadata": {},
   "outputs": [],
   "source": [
    "def create_user_offer_df(df):\n",
    "    \n",
    "    \n",
    "    '''\n",
    "    \n",
    "    INPUT: takes df with user offer combinations.\n",
    "    \n",
    "    OUTPUT: returns a df with unique users as rows and and if they prefer offers, which type of offer is their best offer.\n",
    "    \n",
    "    '''    \n",
    "    \n",
    "    df_offer_merged = df.merge(offers, left_on='offer_id', right_on='id', how='left')[['user_id', 'offer_type', 'offer_effect']]\n",
    "    \n",
    "    unstack_df = df_offer_merged.groupby(['user_id', 'offer_type'])['offer_effect'].sum().unstack()\n",
    "    \n",
    "    df_matrix = unstack_df.merge(user, left_on='user_id', right_on='id')[['id','age','gender', 'income', 'income_normalized', 'join_year', 'join_month', 'join_day','bogo', 'discount', 'informational']]\n",
    "    \n",
    "    df_matrix = df_matrix.dropna()\n",
    "    \n",
    "    for index, row in df_matrix.iterrows():\n",
    "        \n",
    "        if row[['bogo', 'discount', 'informational']].sum() == 0:\n",
    "            \n",
    "            df_matrix.loc[index, 'final'] = 'None'\n",
    "            \n",
    "        else:\n",
    "            \n",
    "            df_matrix.loc[index, 'final'] = df_matrix[['bogo', 'discount', 'informational']].idxmax(axis=1)[index] \n",
    "            \n",
    "    df_matrix = df_matrix.drop(columns=['id', 'bogo', 'discount', 'informational'])\n",
    "    \n",
    "    return df_matrix\n",
    "\n",
    "def create_offer_user_df(df, second_label=False):\n",
    "\n",
    "    \n",
    "    '''\n",
    "    \n",
    "    INPUT: takes a df with user offer combination.\n",
    "    \n",
    "    OUTPUT: returns a df with every user offer combination and wether the user was interested in the offer or not.\n",
    "    \n",
    "    '''    \n",
    "    #if second_label == False:\n",
    "    #    df = df[~df['offer_effect'].isna()]\n",
    "\n",
    "    \n",
    "    df = df.merge(user, left_on='user_id', right_on='id')\n",
    "    \n",
    "    df = df.merge(offers, left_on='offer_id', right_on='id')\n",
    "    \n",
    "    if second_label == False:\n",
    "        df = df[['age', 'became_member_on', 'gender', 'income_normalized','income', 'join_year', 'join_month', 'join_day', 'email', 'web', 'social', 'mobile', 'duration', 'difficulty', 'offer_type', 'offer_effect']]\n",
    "    else:\n",
    "        df = df[['age', 'became_member_on', 'gender', 'income_normalized','income', 'join_year', 'join_month', 'join_day', 'email', 'web', 'social', 'mobile', 'duration', 'difficulty', 'offer_type', 'offer_effect','offer_completed']]\n",
    "    \n",
    "    df = df.dropna()\n",
    "\n",
    "    for index, row in df.iterrows():\n",
    "        if row['offer_effect'] == 0:\n",
    "            df.loc[index, 'offer_effect'] = 'None'\n",
    "        else:\n",
    "            df.loc[index, 'offer_effect'] = df.loc[index, 'offer_type']\n",
    "            \n",
    "    df = df.drop(columns=['offer_type'])\n",
    "    \n",
    "    return df"
   ]
  },
  {
   "cell_type": "code",
   "execution_count": 71,
   "metadata": {},
   "outputs": [],
   "source": [
    "# user_offer: Which has unique users as rows, multiple features from user and offer datasets,\n",
    "# and with the user most preferred offer as labels\n",
    "\n",
    "user_offer = create_user_offer_df(df_check)\n",
    "\n",
    "# offer_user: Which has all offer-user combanations with mulltiple features,\n",
    "# and wether the user preferes the offer or not as labels\n",
    "\n",
    "offer_user = create_offer_user_df(df_check, second_label=True)\n"
   ]
  },
  {
   "cell_type": "markdown",
   "metadata": {},
   "source": [
    "### Let's take a look at user offer table"
   ]
  },
  {
   "cell_type": "code",
   "execution_count": 72,
   "metadata": {},
   "outputs": [
    {
     "name": "stdout",
     "output_type": "stream",
     "text": [
      "(14825, 8)\n"
     ]
    },
    {
     "data": {
      "text/html": [
       "<div>\n",
       "<style scoped>\n",
       "    .dataframe tbody tr th:only-of-type {\n",
       "        vertical-align: middle;\n",
       "    }\n",
       "\n",
       "    .dataframe tbody tr th {\n",
       "        vertical-align: top;\n",
       "    }\n",
       "\n",
       "    .dataframe thead th {\n",
       "        text-align: right;\n",
       "    }\n",
       "</style>\n",
       "<table border=\"1\" class=\"dataframe\">\n",
       "  <thead>\n",
       "    <tr style=\"text-align: right;\">\n",
       "      <th></th>\n",
       "      <th>age</th>\n",
       "      <th>gender</th>\n",
       "      <th>income</th>\n",
       "      <th>income_normalized</th>\n",
       "      <th>join_year</th>\n",
       "      <th>join_month</th>\n",
       "      <th>join_day</th>\n",
       "      <th>final</th>\n",
       "    </tr>\n",
       "  </thead>\n",
       "  <tbody>\n",
       "    <tr>\n",
       "      <th>0</th>\n",
       "      <td>33.0</td>\n",
       "      <td>1</td>\n",
       "      <td>72000.0</td>\n",
       "      <td>47.0</td>\n",
       "      <td>2017</td>\n",
       "      <td>04</td>\n",
       "      <td>21</td>\n",
       "      <td>informational</td>\n",
       "    </tr>\n",
       "    <tr>\n",
       "      <th>2</th>\n",
       "      <td>40.0</td>\n",
       "      <td>3</td>\n",
       "      <td>57000.0</td>\n",
       "      <td>30.0</td>\n",
       "      <td>2018</td>\n",
       "      <td>01</td>\n",
       "      <td>09</td>\n",
       "      <td>discount</td>\n",
       "    </tr>\n",
       "    <tr>\n",
       "      <th>3</th>\n",
       "      <td>59.0</td>\n",
       "      <td>2</td>\n",
       "      <td>90000.0</td>\n",
       "      <td>67.0</td>\n",
       "      <td>2016</td>\n",
       "      <td>03</td>\n",
       "      <td>04</td>\n",
       "      <td>bogo</td>\n",
       "    </tr>\n",
       "    <tr>\n",
       "      <th>4</th>\n",
       "      <td>24.0</td>\n",
       "      <td>2</td>\n",
       "      <td>60000.0</td>\n",
       "      <td>33.0</td>\n",
       "      <td>2016</td>\n",
       "      <td>11</td>\n",
       "      <td>11</td>\n",
       "      <td>bogo</td>\n",
       "    </tr>\n",
       "    <tr>\n",
       "      <th>5</th>\n",
       "      <td>26.0</td>\n",
       "      <td>2</td>\n",
       "      <td>73000.0</td>\n",
       "      <td>48.0</td>\n",
       "      <td>2017</td>\n",
       "      <td>06</td>\n",
       "      <td>21</td>\n",
       "      <td>informational</td>\n",
       "    </tr>\n",
       "  </tbody>\n",
       "</table>\n",
       "</div>"
      ],
      "text/plain": [
       "    age gender   income  income_normalized join_year join_month join_day  \\\n",
       "0  33.0      1  72000.0               47.0      2017         04       21   \n",
       "2  40.0      3  57000.0               30.0      2018         01       09   \n",
       "3  59.0      2  90000.0               67.0      2016         03       04   \n",
       "4  24.0      2  60000.0               33.0      2016         11       11   \n",
       "5  26.0      2  73000.0               48.0      2017         06       21   \n",
       "\n",
       "           final  \n",
       "0  informational  \n",
       "2       discount  \n",
       "3           bogo  \n",
       "4           bogo  \n",
       "5  informational  "
      ]
     },
     "execution_count": 72,
     "metadata": {},
     "output_type": "execute_result"
    }
   ],
   "source": [
    "print(user_offer.shape)\n",
    "user_offer.head()"
   ]
  },
  {
   "cell_type": "markdown",
   "metadata": {},
   "source": [
    "### Now, let's take a look at offer user table"
   ]
  },
  {
   "cell_type": "code",
   "execution_count": 73,
   "metadata": {},
   "outputs": [
    {
     "name": "stdout",
     "output_type": "stream",
     "text": [
      "(55222, 16)\n"
     ]
    },
    {
     "data": {
      "text/html": [
       "<div>\n",
       "<style scoped>\n",
       "    .dataframe tbody tr th:only-of-type {\n",
       "        vertical-align: middle;\n",
       "    }\n",
       "\n",
       "    .dataframe tbody tr th {\n",
       "        vertical-align: top;\n",
       "    }\n",
       "\n",
       "    .dataframe thead th {\n",
       "        text-align: right;\n",
       "    }\n",
       "</style>\n",
       "<table border=\"1\" class=\"dataframe\">\n",
       "  <thead>\n",
       "    <tr style=\"text-align: right;\">\n",
       "      <th></th>\n",
       "      <th>age</th>\n",
       "      <th>became_member_on</th>\n",
       "      <th>gender</th>\n",
       "      <th>income_normalized</th>\n",
       "      <th>income</th>\n",
       "      <th>join_year</th>\n",
       "      <th>join_month</th>\n",
       "      <th>join_day</th>\n",
       "      <th>email</th>\n",
       "      <th>web</th>\n",
       "      <th>social</th>\n",
       "      <th>mobile</th>\n",
       "      <th>duration</th>\n",
       "      <th>difficulty</th>\n",
       "      <th>offer_effect</th>\n",
       "      <th>offer_completed</th>\n",
       "    </tr>\n",
       "  </thead>\n",
       "  <tbody>\n",
       "    <tr>\n",
       "      <th>3</th>\n",
       "      <td>75.0</td>\n",
       "      <td>20170509</td>\n",
       "      <td>2</td>\n",
       "      <td>78.0</td>\n",
       "      <td>100000.0</td>\n",
       "      <td>2017</td>\n",
       "      <td>05</td>\n",
       "      <td>09</td>\n",
       "      <td>1</td>\n",
       "      <td>0</td>\n",
       "      <td>1</td>\n",
       "      <td>1</td>\n",
       "      <td>7</td>\n",
       "      <td>10</td>\n",
       "      <td>bogo</td>\n",
       "      <td>1</td>\n",
       "    </tr>\n",
       "    <tr>\n",
       "      <th>13</th>\n",
       "      <td>61.0</td>\n",
       "      <td>20170911</td>\n",
       "      <td>2</td>\n",
       "      <td>30.0</td>\n",
       "      <td>57000.0</td>\n",
       "      <td>2017</td>\n",
       "      <td>09</td>\n",
       "      <td>11</td>\n",
       "      <td>1</td>\n",
       "      <td>0</td>\n",
       "      <td>1</td>\n",
       "      <td>1</td>\n",
       "      <td>7</td>\n",
       "      <td>10</td>\n",
       "      <td>bogo</td>\n",
       "      <td>1</td>\n",
       "    </tr>\n",
       "    <tr>\n",
       "      <th>14</th>\n",
       "      <td>26.0</td>\n",
       "      <td>20140213</td>\n",
       "      <td>1</td>\n",
       "      <td>18.0</td>\n",
       "      <td>46000.0</td>\n",
       "      <td>2014</td>\n",
       "      <td>02</td>\n",
       "      <td>13</td>\n",
       "      <td>1</td>\n",
       "      <td>0</td>\n",
       "      <td>1</td>\n",
       "      <td>1</td>\n",
       "      <td>7</td>\n",
       "      <td>10</td>\n",
       "      <td>None</td>\n",
       "      <td>0</td>\n",
       "    </tr>\n",
       "    <tr>\n",
       "      <th>16</th>\n",
       "      <td>49.0</td>\n",
       "      <td>20141113</td>\n",
       "      <td>1</td>\n",
       "      <td>24.0</td>\n",
       "      <td>52000.0</td>\n",
       "      <td>2014</td>\n",
       "      <td>11</td>\n",
       "      <td>13</td>\n",
       "      <td>1</td>\n",
       "      <td>0</td>\n",
       "      <td>1</td>\n",
       "      <td>1</td>\n",
       "      <td>7</td>\n",
       "      <td>10</td>\n",
       "      <td>bogo</td>\n",
       "      <td>1</td>\n",
       "    </tr>\n",
       "    <tr>\n",
       "      <th>19</th>\n",
       "      <td>61.0</td>\n",
       "      <td>20180501</td>\n",
       "      <td>2</td>\n",
       "      <td>11.0</td>\n",
       "      <td>40000.0</td>\n",
       "      <td>2018</td>\n",
       "      <td>05</td>\n",
       "      <td>01</td>\n",
       "      <td>1</td>\n",
       "      <td>0</td>\n",
       "      <td>1</td>\n",
       "      <td>1</td>\n",
       "      <td>7</td>\n",
       "      <td>10</td>\n",
       "      <td>None</td>\n",
       "      <td>0</td>\n",
       "    </tr>\n",
       "  </tbody>\n",
       "</table>\n",
       "</div>"
      ],
      "text/plain": [
       "     age  became_member_on gender  income_normalized    income join_year  \\\n",
       "3   75.0          20170509      2               78.0  100000.0      2017   \n",
       "13  61.0          20170911      2               30.0   57000.0      2017   \n",
       "14  26.0          20140213      1               18.0   46000.0      2014   \n",
       "16  49.0          20141113      1               24.0   52000.0      2014   \n",
       "19  61.0          20180501      2               11.0   40000.0      2018   \n",
       "\n",
       "   join_month join_day  email  web  social  mobile  duration  difficulty  \\\n",
       "3          05       09      1    0       1       1         7          10   \n",
       "13         09       11      1    0       1       1         7          10   \n",
       "14         02       13      1    0       1       1         7          10   \n",
       "16         11       13      1    0       1       1         7          10   \n",
       "19         05       01      1    0       1       1         7          10   \n",
       "\n",
       "   offer_effect  offer_completed  \n",
       "3          bogo                1  \n",
       "13         bogo                1  \n",
       "14         None                0  \n",
       "16         bogo                1  \n",
       "19         None                0  "
      ]
     },
     "execution_count": 73,
     "metadata": {},
     "output_type": "execute_result"
    }
   ],
   "source": [
    "print(offer_user.shape)\n",
    "offer_user.head()"
   ]
  },
  {
   "cell_type": "markdown",
   "metadata": {},
   "source": [
    "# Model Building, Tuning and Scoring\n",
    "\n",
    "\n",
    "I wrote two functions to help me test out multiple variation and to tune in my model.\n",
    "I tested multiple ML algorithims and got varied accuracy scores for each one, without using GridSearchCV, I got the following accuracy scores for these ML models.\n",
    "\n",
    "GaussianNB = **0.45**\n",
    "\n",
    "LogisticRegression = **0.45**\n",
    "\n",
    "SVC = **0.45**\n",
    "\n",
    "DecisionTreeClassifier = **0.44**\n",
    "\n",
    "KNeighborsClassifier = **0.38**\n",
    "\n",
    "AdaBoostClassifier = **0.48**\n",
    "\n",
    "Then I tried adding more and more features: channel breakdown with binary values, filling NaN income values with avg column values, adding normalized income column, creating two different datasets, one with unique users and their preferred offer, and another dataset with each offer-user possible combanations and wether the user preferes this type of offer or not.\n",
    "\n",
    "\n",
    "I did not see any significant improvement in teh accuracy, or F1 scores.\n",
    "Then I implemented GridSearchCV with multiple n_estimators and multiple learning_rates"
   ]
  },
  {
   "cell_type": "markdown",
   "metadata": {},
   "source": [
    "#### Store 4 different ML models to find teh best fit"
   ]
  },
  {
   "cell_type": "code",
   "execution_count": 37,
   "metadata": {},
   "outputs": [],
   "source": [
    "model_SVC = SVC()\n",
    "model_DTC = DecisionTreeClassifier()\n",
    "model_GNB = GaussianNB()\n",
    "model_ABC = AdaBoostClassifier()"
   ]
  },
  {
   "cell_type": "markdown",
   "metadata": {},
   "source": [
    "#### Store params for GridSearchCV"
   ]
  },
  {
   "cell_type": "code",
   "execution_count": 38,
   "metadata": {},
   "outputs": [],
   "source": [
    "parameters = {'n_estimators': [100, 500, 1000, 1500],\n",
    "                'learning_rate': [0.01, 0.05, 0.1, 0.2]}"
   ]
  },
  {
   "cell_type": "markdown",
   "metadata": {},
   "source": [
    "#### Creating functions to train and evaluate our models"
   ]
  },
  {
   "cell_type": "code",
   "execution_count": 55,
   "metadata": {},
   "outputs": [],
   "source": [
    "def train_model(df, features, labels, model):\n",
    "    \n",
    "    '''\n",
    "    \n",
    "    INPUT: a df with it's features and labels, a selected ML model, and set of params for GridSearchCV\n",
    "    \n",
    "    OUTPUT: a trained model, X test set, y test set\n",
    "    \n",
    "    '''    \n",
    "\n",
    "    # create features and labels sets\n",
    "    X = df[features]\n",
    "    y = df[labels]\n",
    "    \n",
    "    # create train and test splits\n",
    "    X_train, X_test, y_train, y_test = train_test_split(X, y, test_size=0.15, random_state=43)\n",
    "    \n",
    "    #store GridSearchCV model\n",
    "    #model = GridSearchCV(model, params)\n",
    "    \n",
    "    # train the model\n",
    "    model = model.fit(X_train, y_train)\n",
    "    \n",
    "    return model, X_test, y_test\n",
    "\n",
    "\n",
    "def evaluate_model(model, X_test, y_test):\n",
    "    \n",
    "    '''\n",
    "    \n",
    "    INPUT: takes a trained model, X test set, y test set\n",
    "    \n",
    "    OUTPUT: prediction accuracy, classification report\n",
    "    \n",
    "    '''    \n",
    "    \n",
    "    # store predicted y test labels\n",
    "    pred = model.predict(X_test)\n",
    "    \n",
    "    # get accuracy score\n",
    "    acc_score = accuracy_score(y_test,pred)\n",
    "    \n",
    "    # get classification report\n",
    "    class_report = classification_report(y_test,pred)\n",
    "    \n",
    "    print(\"prediction accuracy score is: {}\".format(acc_score))\n",
    "    print(\"classification report:\")\n",
    "    print(class_report)"
   ]
  },
  {
   "cell_type": "markdown",
   "metadata": {},
   "source": [
    "#### first, let's train and evaluate our model  on the user offer dataset"
   ]
  },
  {
   "cell_type": "code",
   "execution_count": 74,
   "metadata": {},
   "outputs": [
    {
     "name": "stdout",
     "output_type": "stream",
     "text": [
      "prediction accuracy score is: 0.4716726618705036\n",
      "classification report:\n",
      "               precision    recall  f1-score   support\n",
      "\n",
      "         None       0.34      0.29      0.31       314\n",
      "         bogo       0.49      0.89      0.63       994\n",
      "     discount       0.47      0.10      0.16       665\n",
      "informational       0.33      0.02      0.04       251\n",
      "\n",
      "     accuracy                           0.47      2224\n",
      "    macro avg       0.41      0.32      0.29      2224\n",
      " weighted avg       0.45      0.47      0.38      2224\n",
      "\n"
     ]
    }
   ],
   "source": [
    "#user_offer: age, gender, income, join dates as features\n",
    "model, X_test, y_test = train_model(user_offer, ['age', 'gender', 'income', 'join_year', 'join_month', 'join_day'], 'final', model_ABC)\n",
    "evaluate_model(model, X_test, y_test)"
   ]
  },
  {
   "cell_type": "markdown",
   "metadata": {},
   "source": [
    "#### Now, let's train and evaluate our model  on the offer user dataset with just age, gender and income as features."
   ]
  },
  {
   "cell_type": "code",
   "execution_count": 75,
   "metadata": {},
   "outputs": [
    {
     "name": "stdout",
     "output_type": "stream",
     "text": [
      "prediction accuracy score is: 0.44121197489135683\n",
      "classification report:\n",
      "               precision    recall  f1-score   support\n",
      "\n",
      "         None       0.44      0.99      0.61      3645\n",
      "         bogo       0.31      0.03      0.06      1762\n",
      "     discount       0.00      0.00      0.00      1818\n",
      "informational       0.00      0.00      0.00      1059\n",
      "\n",
      "     accuracy                           0.44      8284\n",
      "    macro avg       0.19      0.25      0.17      8284\n",
      " weighted avg       0.26      0.44      0.28      8284\n",
      "\n"
     ]
    },
    {
     "name": "stderr",
     "output_type": "stream",
     "text": [
      "/Users/khalidalolayan/opt/anaconda3/lib/python3.8/site-packages/sklearn/metrics/_classification.py:1221: UndefinedMetricWarning: Precision and F-score are ill-defined and being set to 0.0 in labels with no predicted samples. Use `zero_division` parameter to control this behavior.\n",
      "  _warn_prf(average, modifier, msg_start, len(result))\n"
     ]
    }
   ],
   "source": [
    "#offer_user\n",
    "model, X_test, y_test = train_model(offer_user, ['age', 'gender', 'income'], 'offer_effect', model_ABC)\n",
    "evaluate_model(model, X_test, y_test)"
   ]
  },
  {
   "cell_type": "markdown",
   "metadata": {},
   "source": [
    "#### Finally, let's train and evaluate our model on the offer user dataset with more features:\n",
    "\n",
    "\n",
    "['age', 'gender', 'income_normalized','email', 'web', 'social', 'mobile', 'join_year', 'join_month', 'join_day', 'difficulty', 'duration']"
   ]
  },
  {
   "cell_type": "code",
   "execution_count": 76,
   "metadata": {},
   "outputs": [
    {
     "name": "stdout",
     "output_type": "stream",
     "text": [
      "prediction accuracy score is: 0.5068807339449541\n",
      "classification report:\n",
      "               precision    recall  f1-score   support\n",
      "\n",
      "         None       0.45      0.51      0.48      3645\n",
      "         bogo       0.64      0.30      0.41      1762\n",
      "     discount       0.55      1.00      0.71      1818\n",
      "informational       0.00      0.00      0.00      1059\n",
      "\n",
      "     accuracy                           0.51      8284\n",
      "    macro avg       0.41      0.45      0.40      8284\n",
      " weighted avg       0.45      0.51      0.45      8284\n",
      "\n"
     ]
    },
    {
     "name": "stderr",
     "output_type": "stream",
     "text": [
      "/Users/khalidalolayan/opt/anaconda3/lib/python3.8/site-packages/sklearn/metrics/_classification.py:1221: UndefinedMetricWarning: Precision and F-score are ill-defined and being set to 0.0 in labels with no predicted samples. Use `zero_division` parameter to control this behavior.\n",
      "  _warn_prf(average, modifier, msg_start, len(result))\n"
     ]
    }
   ],
   "source": [
    "#offer_user with more features \n",
    "model, X_test, y_test = train_model(offer_user, ['age', 'gender', 'income_normalized','email', 'web', 'social', 'mobile', 'join_year', 'join_month', 'join_day', 'difficulty', 'duration'], 'offer_effect', model_ABC)\n",
    "evaluate_model(model, X_test, y_test)\n"
   ]
  },
  {
   "cell_type": "code",
   "execution_count": 77,
   "metadata": {},
   "outputs": [
    {
     "name": "stdout",
     "output_type": "stream",
     "text": [
      "prediction accuracy score is: 0.7446885562530179\n",
      "classification report:\n",
      "              precision    recall  f1-score   support\n",
      "\n",
      "           0       0.64      0.43      0.51      2604\n",
      "           1       0.77      0.89      0.83      5680\n",
      "\n",
      "    accuracy                           0.74      8284\n",
      "   macro avg       0.71      0.66      0.67      8284\n",
      "weighted avg       0.73      0.74      0.73      8284\n",
      "\n"
     ]
    }
   ],
   "source": [
    "#offer_user with compleeted offer as labels \n",
    "model, X_test, y_test = train_model(offer_user, ['age', 'gender', 'income_normalized','email', 'web', 'social', 'mobile', 'join_year', 'join_month', 'join_day', 'difficulty', 'duration'], 'offer_completed', model_ABC)\n",
    "evaluate_model(model, X_test, y_test)\n"
   ]
  },
  {
   "cell_type": "code",
   "execution_count": 1295,
   "metadata": {},
   "outputs": [],
   "source": [
    "### further notes and improvments"
   ]
  },
  {
   "cell_type": "code",
   "execution_count": null,
   "metadata": {},
   "outputs": [],
   "source": []
  },
  {
   "cell_type": "code",
   "execution_count": null,
   "metadata": {},
   "outputs": [],
   "source": []
  },
  {
   "cell_type": "code",
   "execution_count": null,
   "metadata": {},
   "outputs": [],
   "source": []
  },
  {
   "cell_type": "code",
   "execution_count": null,
   "metadata": {},
   "outputs": [],
   "source": []
  },
  {
   "cell_type": "code",
   "execution_count": null,
   "metadata": {},
   "outputs": [],
   "source": []
  },
  {
   "cell_type": "code",
   "execution_count": null,
   "metadata": {},
   "outputs": [],
   "source": []
  },
  {
   "cell_type": "code",
   "execution_count": null,
   "metadata": {},
   "outputs": [],
   "source": []
  }
 ],
 "metadata": {
  "kernelspec": {
   "display_name": "Python 3",
   "language": "python",
   "name": "python3"
  },
  "language_info": {
   "codemirror_mode": {
    "name": "ipython",
    "version": 3
   },
   "file_extension": ".py",
   "mimetype": "text/x-python",
   "name": "python",
   "nbconvert_exporter": "python",
   "pygments_lexer": "ipython3",
   "version": "3.8.5"
  }
 },
 "nbformat": 4,
 "nbformat_minor": 4
}
